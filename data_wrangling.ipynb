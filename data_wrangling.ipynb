{
 "cells": [
  {
   "cell_type": "code",
   "execution_count": 3,
   "id": "848f1acf",
   "metadata": {},
   "outputs": [],
   "source": [
    "import pandas as pd\n",
    "\n",
    "details = pd.DataFrame({\n",
    "'ID': [101, 102, 103, 104, 105, 106,\n",
    "107, 108, 109, 110],\n",
    "'NAME': ['Jagroop', 'Praveen', 'Harjot',\n",
    "'Pooja', 'Rahul', 'Nikita',\n",
    "'Saurabh', 'Ayush', 'Dolly', \"Mohit\"],\n",
    "'BRANCH': ['CSE', 'CSE', 'CSE', 'CSE', 'CSE',\n",
    "'CSE', 'CSE', 'CSE', 'CSE', 'CSE']})\n"
   ]
  },
  {
   "cell_type": "code",
   "execution_count": 2,
   "id": "1197466c",
   "metadata": {},
   "outputs": [
    {
     "name": "stdout",
     "output_type": "stream",
     "text": [
      "    ID     NAME BRANCH\n",
      "0  101  Jagroop    CSE\n",
      "1  102  Praveen    CSE\n",
      "2  103   Harjot    CSE\n",
      "3  104    Pooja    CSE\n",
      "4  105    Rahul    CSE\n",
      "5  106   Nikita    CSE\n",
      "6  107  Saurabh    CSE\n",
      "7  108    Ayush    CSE\n",
      "8  109    Dolly    CSE\n",
      "9  110    Mohit    CSE\n"
     ]
    }
   ],
   "source": [
    "print(details)"
   ]
  },
  {
   "cell_type": "code",
   "execution_count": 5,
   "id": "371f433f",
   "metadata": {},
   "outputs": [],
   "source": [
    "fees_status = pd.DataFrame(\n",
    "{'ID': [101, 102, 103, 104, 105,\n",
    "106, 107, 108, 109, 110],\n",
    "'PENDING': ['5000', '250', 'NIL',\n",
    "'9000', '15000', 'NIL',\n",
    "'4500', '1800', '250', 'NIL']})\n"
   ]
  },
  {
   "cell_type": "code",
   "execution_count": 6,
   "id": "66843510",
   "metadata": {},
   "outputs": [
    {
     "name": "stdout",
     "output_type": "stream",
     "text": [
      "    ID PENDING\n",
      "0  101    5000\n",
      "1  102     250\n",
      "2  103     NIL\n",
      "3  104    9000\n",
      "4  105   15000\n",
      "5  106     NIL\n",
      "6  107    4500\n",
      "7  108    1800\n",
      "8  109     250\n",
      "9  110     NIL\n"
     ]
    }
   ],
   "source": [
    "print(fees_status)"
   ]
  },
  {
   "cell_type": "code",
   "execution_count": 7,
   "id": "2e12dd07",
   "metadata": {},
   "outputs": [],
   "source": [
    "# Data Wrangling Using Grouping Method \n",
    "# Using groupby() method."
   ]
  },
  {
   "cell_type": "code",
   "execution_count": 8,
   "id": "5c20fcef",
   "metadata": {},
   "outputs": [
    {
     "name": "stdout",
     "output_type": "stream",
     "text": [
      "       Brand  Year  Sold\n",
      "0     Maruti  2010     6\n",
      "1     Maruti  2011     7\n",
      "2     Maruti  2009     9\n",
      "3     Maruti  2013     8\n",
      "4    Hyundai  2010     3\n",
      "5    Hyundai  2011     5\n",
      "6     Toyota  2011     2\n",
      "7   Mahindra  2010     8\n",
      "8   Mahindra  2013     7\n",
      "9       Ford  2010     2\n",
      "10    Toyota  2010     4\n",
      "11      Ford  2011     2\n"
     ]
    }
   ],
   "source": [
    "car_selling_data = {'Brand': ['Maruti', 'Maruti', 'Maruti',\n",
    "                            'Maruti', 'Hyundai', 'Hyundai',\n",
    "                            'Toyota', 'Mahindra', 'Mahindra',\n",
    "                            'Ford', 'Toyota', 'Ford'],\n",
    "                    'Year': [2010, 2011, 2009, 2013,\n",
    "                            2010, 2011, 2011, 2010,\n",
    "                            2013, 2010, 2010, 2011],\n",
    "                    'Sold': [6, 7, 9, 8, 3, 5,\n",
    "                            2, 8, 7, 2, 4, 2]}\n",
    "\n",
    "\n",
    "df = pd.DataFrame(car_selling_data)\n",
    "\n",
    "# printing Dataframe\n",
    "print(df)\n"
   ]
  },
  {
   "cell_type": "code",
   "execution_count": null,
   "id": "3563fc8e",
   "metadata": {},
   "outputs": [],
   "source": [
    "#creating dataframe to use groupby methods"
   ]
  }
 ],
 "metadata": {
  "kernelspec": {
   "display_name": "Python 3 (ipykernel)",
   "language": "python",
   "name": "python3"
  },
  "language_info": {
   "codemirror_mode": {
    "name": "ipython",
    "version": 3
   },
   "file_extension": ".py",
   "mimetype": "text/x-python",
   "name": "python",
   "nbconvert_exporter": "python",
   "pygments_lexer": "ipython3",
   "version": "3.10.12"
  }
 },
 "nbformat": 4,
 "nbformat_minor": 5
}
